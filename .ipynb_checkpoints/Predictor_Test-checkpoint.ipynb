{
 "cells": [
  {
   "cell_type": "markdown",
   "metadata": {},
   "source": []
  },
  {
   "cell_type": "code",
   "execution_count": 2,
   "metadata": {
    "pycharm": {
     "name": "#%%\n"
    }
   },
   "outputs": [
    {
     "name": "stderr",
     "output_type": "stream",
     "text": [
      "2022-03-03 16:00:57.907562: W tensorflow/stream_executor/platform/default/dso_loader.cc:64] Could not load dynamic library 'libcudart.so.11.0'; dlerror: libcudart.so.11.0: cannot open shared object file: No such file or directory\n",
      "2022-03-03 16:00:57.907582: I tensorflow/stream_executor/cuda/cudart_stub.cc:29] Ignore above cudart dlerror if you do not have a GPU set up on your machine.\n"
     ]
    }
   ],
   "source": [
    "import os\n",
    "from typing import List\n",
    "\n",
    "from price_predict.utils import PandasUtils, TensorModelUtils\n",
    "from price_predict.utils.PandasUtils import LabelType\n",
    "\n",
    "os.environ['TF_CPP_MIN_LOG_LEVEL'] = '2'\n",
    "csv_file_path: str = \"resources/train_data/asynML2_trainData_EURUSD_L.csv\"\n",
    "train_data_file_path: str = \"resources/train_data/trainData\"\n",
    "model_file_path: str = \"resources/ml/pricePredict\"\n",
    "\n",
    "label_version: str = 'V5'\n",
    "\n",
    "units_params: List[int] = [50]\n",
    "hidden_layer_params: List[int] = [5]\n",
    "epochs: int = 10\n",
    "target_params: List[int] = [10, 30, 60]\n",
    "use_small_dataset: bool = True\n",
    "time_range_multiplier: int = 10\n",
    "label_type: LabelType = LabelType.FIBONACCI"
   ]
  },
  {
   "cell_type": "markdown",
   "metadata": {},
   "source": [
    "Set initial data in Graphite Database\n",
    "For this, the docker-compose need to be started"
   ]
  },
  {
   "cell_type": "code",
   "execution_count": 16,
   "metadata": {
    "pycharm": {
     "name": "#%%\n"
    }
   },
   "outputs": [
    {
     "name": "stdout",
     "output_type": "stream",
     "text": [
      "load initial data\n",
      "transform data\n"
     ]
    },
    {
     "ename": "TypeError",
     "evalue": "strptime() takes exactly 2 arguments (1 given)",
     "output_type": "error",
     "traceback": [
      "\u001b[0;31m---------------------------------------------------------------------------\u001b[0m",
      "\u001b[0;31mTypeError\u001b[0m                                 Traceback (most recent call last)",
      "Input \u001b[0;32mIn [16]\u001b[0m, in \u001b[0;36m<cell line: 12>\u001b[0;34m()\u001b[0m\n\u001b[1;32m     10\u001b[0m value_key: \u001b[38;5;28mstr\u001b[39m \u001b[38;5;241m=\u001b[39m \u001b[38;5;124m\"\u001b[39m\u001b[38;5;124mvalue\u001b[39m\u001b[38;5;124m\"\u001b[39m\n\u001b[1;32m     12\u001b[0m \u001b[38;5;28;01mfor\u001b[39;00m line \u001b[38;5;129;01min\u001b[39;00m data:\n\u001b[1;32m     13\u001b[0m     time_series_data\u001b[38;5;241m.\u001b[39mappend(\n\u001b[0;32m---> 14\u001b[0m         {timestamp_key: \u001b[43mdatetime\u001b[49m\u001b[38;5;241;43m.\u001b[39;49m\u001b[43mstrptime\u001b[49m\u001b[43m(\u001b[49m\u001b[43mline\u001b[49m\u001b[43m[\u001b[49m\u001b[38;5;241;43m0\u001b[39;49m\u001b[43m]\u001b[49m\u001b[43m)\u001b[49m\u001b[38;5;241m.\u001b[39mtimestamp(), value_key: line[data\u001b[38;5;241m.\u001b[39mshape[\u001b[38;5;241m1\u001b[39m] \u001b[38;5;241m-\u001b[39m \u001b[38;5;241m1\u001b[39m]})\n\u001b[1;32m     15\u001b[0m \u001b[38;5;28mprint\u001b[39m(\u001b[38;5;124m\"\u001b[39m\u001b[38;5;124mupload data to Graphite\u001b[39m\u001b[38;5;124m\"\u001b[39m)\n\u001b[1;32m     16\u001b[0m GraphiteUtils\u001b[38;5;241m.\u001b[39msend_time_data(\u001b[38;5;124m\"\u001b[39m\u001b[38;5;124mprice_predict.real\u001b[39m\u001b[38;5;124m\"\u001b[39m, time_series_data)\n",
      "\u001b[0;31mTypeError\u001b[0m: strptime() takes exactly 2 arguments (1 given)"
     ]
    }
   ],
   "source": [
    "from datetime import datetime\n",
    "from price_predict.utils import GraphiteUtils\n",
    "import pandas as pd\n",
    "\n",
    "print(\"load initial data\")\n",
    "data: pd.DataFrame = PandasUtils.get_data_from_csv(csv_file_path, ignore_rows=100)\n",
    "print(\"transform data\")\n",
    "time_series_data: List[dict] = []\n",
    "timestamp_key: str = \"timestamp\"\n",
    "value_key: str = \"value\"\n",
    "\n",
    "for line in data:\n",
    "    time_series_data.append(\n",
    "        {timestamp_key: datetime.strptime(line[0], '%y%m%d %H:%M:%S').timestamp(), value_key: line[data.shape[1] - 1]})\n",
    "print(\"upload data to Graphite\")\n",
    "GraphiteUtils.send_time_data(\"price_predict.real\", time_series_data)\n",
    "print(\"done\")"
   ]
  },
  {
   "cell_type": "markdown",
   "metadata": {},
   "source": [
    "Create needed resource folder"
   ]
  },
  {
   "cell_type": "code",
   "execution_count": 1,
   "metadata": {
    "pycharm": {
     "name": "#%%\n"
    }
   },
   "outputs": [],
   "source": [
    "from os import path\n",
    "\n",
    "if not path.exists(\"resources\"):\n",
    "    os.mkdir(\"resources\")\n",
    "    os.mkdir(\"resources/ml\")\n",
    "    os.mkdir(\"resources/result\")\n",
    "    os.mkdir(\"resources/train_data\")"
   ]
  },
  {
   "cell_type": "markdown",
   "metadata": {},
   "source": [
    "Build and test models"
   ]
  },
  {
   "cell_type": "code",
   "execution_count": null,
   "metadata": {
    "pycharm": {
     "name": "#%%\n"
    }
   },
   "outputs": [],
   "source": [
    "import datetime\n",
    "from matplotlib import pyplot as plt\n",
    "import time\n",
    "\n",
    "for hidden_layer in hidden_layer_params:\n",
    "    for units in units_params:\n",
    "        for target in target_params:\n",
    "            run_number: int = len(os.listdir(\"resources/ml\"))\n",
    "            run_message: str = (\n",
    "                    str(run_number) +\n",
    "                    \" - units: \" + str(units) +\n",
    "                    \" - hidden layers: \" + str(hidden_layer) +\n",
    "                    \" - epochs \" + str(epochs) +\n",
    "                    \" - use small data: \" + str(use_small_dataset) +\n",
    "                    \" - target: \" + str(target) +\n",
    "                    \" - label type: \" + str(label_type.name) +\n",
    "                    \" - label version: \" + label_version\n",
    "            )\n",
    "\n",
    "            print(\"build module with run number: \" + run_message)\n",
    "\n",
    "            x_train, y_train, x_test, y_test = PandasUtils.get_labeled_data(\n",
    "                csv_file_path=csv_file_path,\n",
    "                use_small_dataset=use_small_dataset,\n",
    "                time_range=target * time_range_multiplier,\n",
    "                target=target,\n",
    "                label_type=label_type\n",
    "            )\n",
    "\n",
    "            module_build_start_time: float = time.time()\n",
    "            predictor = TensorModelUtils.build_model(\n",
    "                x_train,\n",
    "                y_train,\n",
    "                units=units,\n",
    "                hidden_layer=hidden_layer,\n",
    "                epochs=epochs,\n",
    "                run_number=run_number\n",
    "            )\n",
    "            module_build_end_time: float = time.time()\n",
    "\n",
    "            print(\"start test prediction\")\n",
    "            test_predict = predictor.predict(x_test)\n",
    "            # plot result\n",
    "            plt.plot(x_test[1000 + target:3000 + target, x_test.shape[1] - 1, x_test.shape[2] - 1], color='black',\n",
    "                     label='Real Price')\n",
    "            plt.plot(y_test[1000 + target:3000 + target], color='red', label='target Price')\n",
    "            plt.plot(test_predict[1000:3000], color='blue', label='Predicted Price')\n",
    "            plt.title('Stock Price Prediction')\n",
    "            plt.xlabel('Time')\n",
    "            plt.ylabel('Stock Price')\n",
    "            plt.legend()\n",
    "            plt.savefig(\"resources/result/\" + str(run_number) + \".png\")\n",
    "            plt.clf()\n",
    "\n",
    "            result: int = 0\n",
    "            for row in range(test_predict.shape[0]):\n",
    "                if (test_predict[row] - test_predict[row - 1] > 0) == (y_test[row] - y_test[row - 1] > 0):\n",
    "                    result += 1\n",
    "\n",
    "            result_message: str = run_message + \" - result \" + str(result)\n",
    "            build_time_sec: float = module_build_end_time - module_build_start_time\n",
    "            result_message += \" - module train time: \" + str(datetime.timedelta(seconds=build_time_sec))\n",
    "            result_file = open(\"resources/result/result.txt\", \"a\")\n",
    "            result_file.write(result_message + \"\\n\")\n",
    "            result_file.close()\n",
    "            print(\"finish module with run number: \" + result_message)"
   ]
  }
 ],
 "metadata": {
  "kernelspec": {
   "display_name": "Python 3 (ipykernel)",
   "language": "python",
   "name": "python3"
  },
  "language_info": {
   "codemirror_mode": {
    "name": "ipython",
    "version": 3
   },
   "file_extension": ".py",
   "mimetype": "text/x-python",
   "name": "python",
   "nbconvert_exporter": "python",
   "pygments_lexer": "ipython3",
   "version": "3.8.10"
  }
 },
 "nbformat": 4,
 "nbformat_minor": 1
}
