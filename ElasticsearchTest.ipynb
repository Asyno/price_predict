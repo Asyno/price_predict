{
 "cells": [
  {
   "cell_type": "markdown",
   "source": [
    "Set initial data in Elasticsearch\n",
    "For this, the docker-compose need to be started"
   ],
   "metadata": {
    "collapsed": false
   }
  },
  {
   "cell_type": "code",
   "execution_count": 1,
   "metadata": {
    "collapsed": true
   },
   "outputs": [
    {
     "name": "stderr",
     "output_type": "stream",
     "text": [
      "/usr/lib/python3/dist-packages/requests/__init__.py:89: RequestsDependencyWarning: urllib3 (1.26.8) or chardet (3.0.4) doesn't match a supported version!\n",
      "  warnings.warn(\"urllib3 ({}) or chardet ({}) doesn't match a supported \"\n"
     ]
    },
    {
     "name": "stdout",
     "output_type": "stream",
     "text": [
      "load initial data\n",
      "upload data to Elastic\n",
      "done\n"
     ]
    }
   ],
   "source": [
    "import configparser\n",
    "\n",
    "import pandas as pd\n",
    "\n",
    "from price_predict.utils import PandasUtils, ElasticClient\n",
    "\n",
    "config: configparser.ConfigParser = configparser.ConfigParser()\n",
    "config.read(\"config.ini\")\n",
    "\n",
    "ElasticClient.delete_index(\"price_predict.real\")\n",
    "ElasticClient.create_index(\"price_predict.real\")\n",
    "\n",
    "print(\"load initial data\")\n",
    "data: pd.DataFrame = PandasUtils.get_data_from_csv(config[\"DEFAULT\"][\"csv_file_path\"], ignore_rows=100)\n",
    "\n",
    "print(\"upload data to Elastic\")\n",
    "ElasticClient.bulk_index(\"price_predict.real\", data)\n",
    "print(\"done\")"
   ]
  }
 ],
 "metadata": {
  "kernelspec": {
   "display_name": "Python 3",
   "language": "python",
   "name": "python3"
  },
  "language_info": {
   "codemirror_mode": {
    "name": "ipython",
    "version": 2
   },
   "file_extension": ".py",
   "mimetype": "text/x-python",
   "name": "python",
   "nbconvert_exporter": "python",
   "pygments_lexer": "ipython2",
   "version": "2.7.6"
  }
 },
 "nbformat": 4,
 "nbformat_minor": 0
}