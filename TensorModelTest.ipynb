{
 "cells": [
  {
   "cell_type": "markdown",
   "metadata": {},
   "source": []
  },
  {
   "cell_type": "markdown",
   "source": [
    "Set initial parameter"
   ],
   "metadata": {
    "collapsed": false
   }
  },
  {
   "cell_type": "code",
   "execution_count": 2,
   "metadata": {
    "pycharm": {
     "name": "#%%\n"
    }
   },
   "outputs": [],
   "source": [
    "import configparser\n",
    "import json\n",
    "import os\n",
    "from os import path\n",
    "from typing import List\n",
    "\n",
    "from price_predict.utils import PandasUtils, TensorModelUtils\n",
    "from price_predict.utils.PandasUtils import LabelType\n",
    "\n",
    "config: configparser.ConfigParser = configparser.ConfigParser()\n",
    "config.read(\"config.ini\")\n",
    "\n",
    "os.environ['TF_CPP_MIN_LOG_LEVEL'] = '2'\n",
    "csv_file_path: str = config[\"DEFAULT\"][\"csv_file_path\"]\n",
    "train_data_file_path: str = \"resources/train_data/trainData\"\n",
    "model_file_path: str = \"resources/ml/pricePredict\"\n",
    "\n",
    "# Create needed resource folder\n",
    "if not path.exists(\"resources\"):\n",
    "    os.mkdir(\"resources\")\n",
    "    os.mkdir(\"resources/ml\")\n",
    "    os.mkdir(\"resources/result\")\n",
    "    os.mkdir(\"resources/train_data\")\n",
    "\n",
    "label_version: str = config[\"TestModel\"][\"label_version\"]\n",
    "\n",
    "units_params: List[int] = json.loads(config[\"TestModel\"][\"units_params\"])\n",
    "hidden_layer_params: List[int] = json.loads(config[\"TestModel\"][\"hidden_layer_params\"])\n",
    "epochs: int = config[\"TestModel\"].getint(\"epochs\")\n",
    "target_params: List[int] = json.loads(config[\"TestModel\"][\"target_params\"])\n",
    "use_small_dataset: bool = config[\"TestModel\"].getboolean(\"use_small_dataset\")\n",
    "time_range_multiplier: int = config[\"TestModel\"].getint(\"time_range_multiplier\")\n",
    "label_type: LabelType = LabelType[config[\"TestModel\"][\"label_type\"]]"
   ]
  },
  {
   "cell_type": "markdown",
   "metadata": {},
   "source": [
    "Build and test models"
   ]
  },
  {
   "cell_type": "code",
   "execution_count": null,
   "metadata": {
    "pycharm": {
     "name": "#%%\n"
    }
   },
   "outputs": [],
   "source": [
    "import datetime\n",
    "from matplotlib import pyplot as plt\n",
    "import time\n",
    "\n",
    "for hidden_layer in hidden_layer_params:\n",
    "    for units in units_params:\n",
    "        for target in target_params:\n",
    "            run_number: int = len(os.listdir(\"resources/ml\"))\n",
    "            run_message: str = (\n",
    "                    str(run_number) +\n",
    "                    \" - units: \" + str(units) +\n",
    "                    \" - hidden layers: \" + str(hidden_layer) +\n",
    "                    \" - epochs \" + str(epochs) +\n",
    "                    \" - use small data: \" + str(use_small_dataset) +\n",
    "                    \" - target: \" + str(target) +\n",
    "                    \" - label type: \" + str(label_type.name) +\n",
    "                    \" - label version: \" + label_version\n",
    "            )\n",
    "\n",
    "            print(\"build module with run number: \" + run_message)\n",
    "\n",
    "            x_train, y_train, x_test, y_test = PandasUtils.get_labeled_data(\n",
    "                csv_file_path=csv_file_path,\n",
    "                use_small_dataset=use_small_dataset,\n",
    "                time_range=target * time_range_multiplier,\n",
    "                target=target,\n",
    "                label_type=label_type\n",
    "            )\n",
    "\n",
    "            module_build_start_time: float = time.time()\n",
    "            predictor = TensorModelUtils.build_model(\n",
    "                x_train,\n",
    "                y_train,\n",
    "                units=units,\n",
    "                hidden_layer=hidden_layer,\n",
    "                epochs=epochs,\n",
    "                run_number=run_number\n",
    "            )\n",
    "            module_build_end_time: float = time.time()\n",
    "\n",
    "            print(\"start test prediction\")\n",
    "            test_predict = predictor.predict(x_test)\n",
    "            # plot result\n",
    "            plt.plot(x_test[1000 + target:3000 + target, x_test.shape[1] - 1, x_test.shape[2] - 1], color='black',\n",
    "                     label='Real Price')\n",
    "            plt.plot(y_test[1000 + target:3000 + target], color='red', label='target Price')\n",
    "            plt.plot(test_predict[1000:3000], color='blue', label='Predicted Price')\n",
    "            plt.title('Stock Price Prediction')\n",
    "            plt.xlabel('Time')\n",
    "            plt.ylabel('Stock Price')\n",
    "            plt.legend()\n",
    "            plt.savefig(\"resources/result/\" + str(run_number) + \".png\")\n",
    "            plt.clf()\n",
    "\n",
    "            result: int = 0\n",
    "            for row in range(test_predict.shape[0]):\n",
    "                if (test_predict[row] - test_predict[row - 1] > 0) == (y_test[row] - y_test[row - 1] > 0):\n",
    "                    result += 1\n",
    "\n",
    "            result_message: str = run_message + \" - result \" + str(result)\n",
    "            build_time_sec: float = module_build_end_time - module_build_start_time\n",
    "            result_message += \" - module train time: \" + str(datetime.timedelta(seconds=build_time_sec))\n",
    "            result_file = open(\"resources/result/result.txt\", \"a\")\n",
    "            result_file.write(result_message + \"\\n\")\n",
    "            result_file.close()\n",
    "            print(\"finish module with run number: \" + result_message)"
   ]
  }
 ],
 "metadata": {
  "kernelspec": {
   "display_name": "Python 3 (ipykernel)",
   "language": "python",
   "name": "python3"
  },
  "language_info": {
   "codemirror_mode": {
    "name": "ipython",
    "version": 3
   },
   "file_extension": ".py",
   "mimetype": "text/x-python",
   "name": "python",
   "nbconvert_exporter": "python",
   "pygments_lexer": "ipython3",
   "version": "3.8.10"
  }
 },
 "nbformat": 4,
 "nbformat_minor": 1
}